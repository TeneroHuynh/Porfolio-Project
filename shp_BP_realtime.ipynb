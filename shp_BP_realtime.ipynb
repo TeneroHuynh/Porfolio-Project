{
 "cells": [
  {
   "cell_type": "code",
   "execution_count": 1,
   "metadata": {},
   "outputs": [],
   "source": [
    "import os\n",
    "import glob\n",
    "import openpyxl\n",
    "import pyperclip\n",
    "import time\n",
    "import pyautogui\n",
    "import re\n",
    "from datetime import datetime\n",
    "from datetime import timedelta\n",
    "import subprocess\n",
    "import pandas as pd\n",
    "import gspread\n",
    "from gspread_pandas import Spread, Client\n",
    "import warnings\n",
    "warnings.simplefilter(\"ignore\")"
   ]
  },
  {
   "cell_type": "code",
   "execution_count": 2,
   "metadata": {},
   "outputs": [],
   "source": [
    "import gspread\n",
    "from oauth2client.service_account import ServiceAccountCredentials\n",
    "\n",
    "\n",
    "credentials_path = r\"C:\\Working_customore\\google_secret.json\"\n",
    "\n",
    "# Define the scope\n",
    "scope = [\"https://spreadsheets.google.com/feeds\",\n",
    "          \"https://www.googleapis.com/auth/drive\"]\n",
    "\n",
    "# Add your credentials file\n",
    "creds = ServiceAccountCredentials.from_json_keyfile_name(credentials_path, scope)\n",
    "\n",
    "# Authorize the client\n",
    "client = gspread.authorize(creds)\n",
    "\n",
    "# Open Google Sheet by name\n",
    "spreadsheet_url = 'https://docs.google.com/spreadsheets/d/1qQ5JSuvTGJzOIoLAHKN0INHgrgB_LG6NiDPKTOR6lLw/edit?gid=1007344023#gid=1007344023' #input the working file name\n",
    "spreadsheet = client.open_by_url(spreadsheet_url)"
   ]
  },
  {
   "cell_type": "code",
   "execution_count": 3,
   "metadata": {},
   "outputs": [],
   "source": [
    "import os\n",
    "from gspread_pandas import Spread\n",
    "\n",
    "# Set the path to your Google credentials JSON file\n",
    "os.environ['GSPREAD_PANDAS_CONFIG_DIR'] = r\"C:\\Working_customore\" #input link of folder in local to JSON key file\n",
    "\n",
    "# Continue with your existing code\n",
    "spread = Spread('2024-09-09_[working] reckitt_benckiser_hourly sales tracking [Phúc]')  #input the working file name"
   ]
  },
  {
   "cell_type": "code",
   "execution_count": 4,
   "metadata": {},
   "outputs": [
    {
     "name": "stdout",
     "output_type": "stream",
     "text": [
      "Move your mouse to the desired location within the next 30 seconds.\n",
      "X: 1298, Y: 301\n",
      "X: 1298, Y: 301\n",
      "X: 1298, Y: 301\n",
      "X: 1298, Y: 301\n",
      "X: 1298, Y: 301\n",
      "X: 1298, Y: 301\n",
      "X: 1298, Y: 301\n",
      "X: 1298, Y: 301\n",
      "X: 1298, Y: 301\n",
      "X: 1298, Y: 301\n",
      "X: 1298, Y: 301\n",
      "X: 1298, Y: 301\n",
      "X: 1298, Y: 301\n",
      "X: 1298, Y: 301\n",
      "X: 1298, Y: 301\n",
      "X: 1298, Y: 301\n",
      "X: 1298, Y: 301\n",
      "X: 1298, Y: 301\n",
      "X: 1298, Y: 301\n",
      "X: 1298, Y: 301\n",
      "X: 1298, Y: 301\n",
      "X: 1298, Y: 301\n",
      "X: 1298, Y: 301\n",
      "X: 1298, Y: 301\n",
      "X: 1298, Y: 301\n",
      "X: 1298, Y: 301\n",
      "X: 1298, Y: 301\n",
      "X: 1298, Y: 301\n",
      "X: 1298, Y: 301\n",
      "X: 1298, Y: 301\n"
     ]
    }
   ],
   "source": [
    "#check what is the cordination for the mouse to click\n",
    "\n",
    "import pyautogui\n",
    "import time\n",
    "\n",
    "# Function to get coordinates after a delay and run for a specific duration\n",
    "def get_coordinates(delay_seconds, duration_seconds):\n",
    "    try:\n",
    "        print(\"Move your mouse to the desired location within the next 30 seconds.\")\n",
    "        time.sleep(delay_seconds)\n",
    "\n",
    "        start_time = time.time()\n",
    "        while (time.time() - start_time) < duration_seconds:\n",
    "            x, y = pyautogui.position()\n",
    "            print(f\"X: {x}, Y: {y}\")\n",
    "            time.sleep(1)  # Update coordinates every 1 second\n",
    "\n",
    "    except KeyboardInterrupt:\n",
    "        print(\"Coordinates stopped.\")\n",
    "\n",
    "if __name__ == \"__main__\":\n",
    "    # Delay for 60 seconds before starting, and run for 30 seconds\n",
    "    get_coordinates(delay_seconds=10, duration_seconds=30)\n"
   ]
  },
  {
   "cell_type": "code",
   "execution_count": 6,
   "metadata": {},
   "outputs": [
    {
     "name": "stdout",
     "output_type": "stream",
     "text": [
      "Click at 2024-10-03 17:11:24.289310\n",
      "Reading file: C:\\Working_customore\\live tracker 10-10\\Brand_Portal-Business_Insights---Real_Time_Analysis---Real_Time_Sales-Gross_Data-2024.10.03 (6).xlsx\n",
      "Uploaded data from C:\\Working_customore\\live tracker 10-10\\Brand_Portal-Business_Insights---Real_Time_Analysis---Real_Time_Sales-Gross_Data-2024.10.03 (6).xlsx to Google Sheets.\n",
      "Click at 2024-10-03 17:12:51.585888\n"
     ]
    },
    {
     "ename": "KeyboardInterrupt",
     "evalue": "",
     "output_type": "error",
     "traceback": [
      "\u001b[1;31m---------------------------------------------------------------------------\u001b[0m",
      "\u001b[1;31mKeyboardInterrupt\u001b[0m                         Traceback (most recent call last)",
      "Cell \u001b[1;32mIn[6], line 23\u001b[0m\n\u001b[0;32m     21\u001b[0m pyautogui\u001b[38;5;241m.\u001b[39mclick(button_x, button_y)\n\u001b[0;32m     22\u001b[0m \u001b[38;5;28mprint\u001b[39m(\u001b[38;5;124m'\u001b[39m\u001b[38;5;124mClick at\u001b[39m\u001b[38;5;124m'\u001b[39m, datetime\u001b[38;5;241m.\u001b[39mnow())\n\u001b[1;32m---> 23\u001b[0m \u001b[43mtime\u001b[49m\u001b[38;5;241;43m.\u001b[39;49m\u001b[43msleep\u001b[49m\u001b[43m(\u001b[49m\u001b[38;5;241;43m20\u001b[39;49m\u001b[43m)\u001b[49m  \u001b[38;5;66;03m# Wait 20 secs for report finished downloading\u001b[39;00m\n\u001b[0;32m     25\u001b[0m \u001b[38;5;66;03m# Function to identify the latest Excel file based on the naming convention\u001b[39;00m\n\u001b[0;32m     26\u001b[0m \u001b[38;5;28;01mdef\u001b[39;00m \u001b[38;5;21midentify_latest_excel_file\u001b[39m(folder_path):\n",
      "\u001b[1;31mKeyboardInterrupt\u001b[0m: "
     ]
    }
   ],
   "source": [
    "# Calculate the initial time to start\n",
    "start_time = datetime.now().replace(hour=17, minute=11, second=0, microsecond=0)  # Please minus 2 mins vs real time you want to start\n",
    "\n",
    "# Calculate the end time (5:00 PM)\n",
    "end_time = start_time.replace(hour=17, minute=19, second=0)  # Real time you want to end\n",
    "\n",
    "# Specify the folder path where the files are downloaded\n",
    "folder_path = r\"C:\\Working_customore\\live tracker 10-10\"\n",
    "\n",
    "# Wait until the start time is reached\n",
    "while datetime.now() < start_time:\n",
    "    time.sleep(30)  # Check every minute if it's time to start\n",
    "\n",
    "while datetime.now() < end_time:\n",
    "    # Calculate the time until the next click should be taken (10:35 AM, 11:35 AM, etc.)\n",
    "    now = datetime.now()\n",
    "    next_screenshot_time = now.replace(microsecond=0) + timedelta(seconds=60)\n",
    "\n",
    "    # Replace these coordinates with the actual coordinates of the button\n",
    "    button_x, button_y = 1298, 301\n",
    "    pyautogui.click(button_x, button_y)\n",
    "    print('Click at', datetime.now())\n",
    "    time.sleep(20)  # Wait 20 secs for report finished downloading\n",
    "\n",
    "    # Function to identify the latest Excel file based on the naming convention\n",
    "    def identify_latest_excel_file(folder_path):\n",
    "        latest_files_by_date = {}\n",
    "        for file_name in os.listdir(folder_path):\n",
    "            if file_name.endswith(\".xlsx\"):\n",
    "                match = re.match(r\"^Brand_Portal-Business_Insights---Real_Time_Analysis---Real_Time_Sales-Gross_Data-(\\d{4}.\\d{2}.\\d{2})(?:\\s*\\((\\d*)\\))?.xlsx$\", file_name)\n",
    "                if match:\n",
    "                    date_str, number_str = match.groups()\n",
    "                    file_date = datetime.strptime(date_str, \"%Y.%m.%d\")\n",
    "                    file_number = int(number_str) if number_str else 0\n",
    "                    if file_date not in latest_files_by_date:\n",
    "                        latest_files_by_date[file_date] = []\n",
    "                    latest_files_by_date[file_date].append((file_number, os.path.join(folder_path, file_name)))\n",
    "        \n",
    "        if not latest_files_by_date:\n",
    "            return None\n",
    "        \n",
    "        latest_date = max(latest_files_by_date.keys())\n",
    "        latest_files = latest_files_by_date[latest_date]\n",
    "        \n",
    "        if len(latest_files) > 1:\n",
    "            latest_file = max(latest_files, key=lambda x: x[0])\n",
    "        else:\n",
    "            latest_file = latest_files[0]\n",
    "        \n",
    "        return latest_file[1]\n",
    "\n",
    "    # Main execution\n",
    "    if __name__ == \"__main__\":\n",
    "        folder_path = r\"C:\\Working_customore\\live tracker 10-10\"\n",
    "\n",
    "        # Identify the latest Excel file based on the naming convention\n",
    "        latest_file = identify_latest_excel_file(folder_path)\n",
    "        \n",
    "        if latest_file:\n",
    "            try:\n",
    "                print(f\"Reading file: {latest_file}\")\n",
    "                text = pd.read_excel(latest_file, sheet_name='Shop Ranking', header=None)\n",
    "                text.insert(0, 'Updated time', \"\")\n",
    "                text['Updated time'] = now.strftime(\"%Y-%m-%d %H:%M:%S\")\n",
    "                real_time_report = Spread('2024-09-09_[working] reckitt_benckiser_hourly sales tracking [Phúc]')\n",
    "\n",
    "                worksheet = spreadsheet.worksheet('SHP_BP2')\n",
    "                # Determine the last row with data\n",
    "                existing_data = worksheet.get_all_values()\n",
    "                last_row = len(existing_data) + 1\n",
    "\n",
    "                # Write new data to Google Sheet below the last row\n",
    "                real_time_report.df_to_sheet(text, sheet='SHP_BP2', start=f'A{last_row}', index=False, headers=False)\n",
    "\n",
    "                print(f\"Uploaded data from {latest_file} to Google Sheets.\")\n",
    "            except Exception as e:\n",
    "                print(f\"Error processing file {latest_file}: {e}\")\n",
    "        else:\n",
    "            print(\"No Excel files found in the specified folder.\")\n",
    "\n",
    "        # Sleep until the next screenshot time\n",
    "        sleep_duration = (next_screenshot_time - now).total_seconds()\n",
    "        if sleep_duration > 0:\n",
    "            time.sleep(sleep_duration)\n",
    "                    \n",
    "print(\"Done auto click\")"
   ]
  },
  {
   "cell_type": "code",
   "execution_count": 1,
   "metadata": {},
   "outputs": [
    {
     "ename": "NameError",
     "evalue": "name 'latest_file' is not defined",
     "output_type": "error",
     "traceback": [
      "\u001b[1;31m---------------------------------------------------------------------------\u001b[0m",
      "\u001b[1;31mNameError\u001b[0m                                 Traceback (most recent call last)",
      "Cell \u001b[1;32mIn[1], line 1\u001b[0m\n\u001b[1;32m----> 1\u001b[0m \u001b[43mlatest_file\u001b[49m\n",
      "\u001b[1;31mNameError\u001b[0m: name 'latest_file' is not defined"
     ]
    }
   ],
   "source": [
    "latest_file"
   ]
  }
 ],
 "metadata": {
  "kernelspec": {
   "display_name": "Python 3",
   "language": "python",
   "name": "python3"
  },
  "language_info": {
   "codemirror_mode": {
    "name": "ipython",
    "version": 3
   },
   "file_extension": ".py",
   "mimetype": "text/x-python",
   "name": "python",
   "nbconvert_exporter": "python",
   "pygments_lexer": "ipython3",
   "version": "3.12.2"
  },
  "orig_nbformat": 4
 },
 "nbformat": 4,
 "nbformat_minor": 2
}
